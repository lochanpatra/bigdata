{
  "nbformat": 4,
  "nbformat_minor": 0,
  "metadata": {
    "colab": {
      "private_outputs": true,
      "provenance": [],
      "mount_file_id": "https://github.com/lochanpatra/bigdata/blob/main/nyc_trip.ipynb",
      "authorship_tag": "ABX9TyMo4STrNsA5nJ59rK/SlPh2",
      "include_colab_link": true
    },
    "kernelspec": {
      "name": "python3",
      "display_name": "Python 3"
    },
    "language_info": {
      "name": "python"
    }
  },
  "cells": [
    {
      "cell_type": "markdown",
      "metadata": {
        "id": "view-in-github",
        "colab_type": "text"
      },
      "source": [
        "<a href=\"https://colab.research.google.com/github/lochanpatra/bigdata/blob/main/nyc_trip.ipynb\" target=\"_parent\"><img src=\"https://colab.research.google.com/assets/colab-badge.svg\" alt=\"Open In Colab\"/></a>"
      ]
    },
    {
      "cell_type": "code",
      "execution_count": null,
      "metadata": {
        "id": "EAYTHmr-wrv7"
      },
      "outputs": [],
      "source": [
        "from pyspark.sql import SparkSession\n",
        "\n",
        "spark = SparkSession.builder \\\n",
        "    .appName(\"NYC Taxi Data Analysis\") \\\n",
        "    .config(\"spark.driver.memory\", \"8g\") \\\n",
        "    .config(\"spark.executor.memory\", \"16g\") \\\n",
        "    .getOrCreate()"
      ]
    },
    {
      "cell_type": "markdown",
      "source": [
        "Load the Parquet File"
      ],
      "metadata": {
        "id": "3gejazdptpax"
      }
    },
    {
      "cell_type": "code",
      "source": [
        "file_path = \"/content/drive/MyDrive/DATA FOR USES/yellow_tripdata_2024-01.parquet\"\n",
        "df = spark.read.parquet(file_path)\n"
      ],
      "metadata": {
        "id": "yxCQp9uytOEv"
      },
      "execution_count": null,
      "outputs": []
    },
    {
      "cell_type": "markdown",
      "source": [
        "Preprocess the Data"
      ],
      "metadata": {
        "id": "kqMnj8iattFu"
      }
    },
    {
      "cell_type": "code",
      "source": [
        "from pyspark.sql.functions import to_timestamp, to_date, hour, unix_timestamp\n",
        "\n",
        "df = df.withColumn(\"pickup_datetime\", to_timestamp(\"tpep_pickup_datetime\")) \\\n",
        "       .withColumn(\"dropoff_datetime\", to_timestamp(\"tpep_dropoff_datetime\")) \\\n",
        "       .withColumn(\"pickup_date\", to_date(\"tpep_pickup_datetime\")) \\\n",
        "       .withColumn(\"pickup_hour\", hour(\"tpep_pickup_datetime\")) \\\n",
        "       .withColumn(\"trip_duration_minutes\",\n",
        "                   (unix_timestamp(\"dropoff_datetime\") - unix_timestamp(\"pickup_datetime\")) / 60)\n"
      ],
      "metadata": {
        "id": "9lrNR4LWtOYw"
      },
      "execution_count": null,
      "outputs": []
    },
    {
      "cell_type": "markdown",
      "source": [
        "Apply Filters (Date Range + Payment Type)"
      ],
      "metadata": {
        "id": "pWsrq-L8txRv"
      }
    },
    {
      "cell_type": "code",
      "source": [
        "from datetime import datetime\n",
        "from pyspark.sql.functions import col\n",
        "\n",
        "# Example filters\n",
        "start_date = datetime(2024, 1, 1)\n",
        "end_date = datetime(2024, 1, 31)\n",
        "payment_type_selected = 1  # For example, 1 = Credit Card\n",
        "\n",
        "df = df.filter(\n",
        "    (col(\"pickup_date\") >= start_date) &\n",
        "    (col(\"pickup_date\") <= end_date) &\n",
        "    (col(\"payment_type\") == payment_type_selected)\n",
        ")\n"
      ],
      "metadata": {
        "id": "sakbu-_PtOhx"
      },
      "execution_count": null,
      "outputs": []
    },
    {
      "cell_type": "markdown",
      "source": [
        "Clean the Data"
      ],
      "metadata": {
        "id": "pCc6vi-It1dz"
      }
    },
    {
      "cell_type": "code",
      "source": [
        "df_clean = df.filter(\n",
        "    (col(\"passenger_count\") > 0) &\n",
        "    (col(\"trip_distance\") > 0) &\n",
        "    (col(\"trip_distance\") < 100) &\n",
        "    (col(\"fare_amount\") > 0)\n",
        ")\n"
      ],
      "metadata": {
        "id": "z8pLNssZtZAr"
      },
      "execution_count": null,
      "outputs": []
    },
    {
      "cell_type": "markdown",
      "source": [
        "Aggregations for Plots"
      ],
      "metadata": {
        "id": "Q9lf1VcDt5Fn"
      }
    },
    {
      "cell_type": "code",
      "source": [
        "# Trips by hour\n",
        "pdf_hourly = df_clean.groupBy(\"pickup_hour\").count().orderBy(\"pickup_hour\").toPandas()\n",
        "\n",
        "# Daily total fare\n",
        "pdf_daily_fare = df_clean.groupBy(\"pickup_date\").sum(\"fare_amount\").orderBy(\"pickup_date\").toPandas()\n",
        "\n",
        "# Payment type counts\n",
        "pdf_payment = df_clean.groupBy(\"payment_type\").count().orderBy(\"count\", ascending=False).toPandas()\n",
        "\n",
        "# Trip distance vs fare sample\n",
        "pdf_scatter = df_clean.select(\"trip_distance\", \"fare_amount\") \\\n",
        "    .filter((col(\"trip_distance\") < 50) & (col(\"fare_amount\") < 200)) \\\n",
        "    .sample(fraction=0.01, seed=42).toPandas()\n"
      ],
      "metadata": {
        "id": "eg9oTDhYtZKq"
      },
      "execution_count": null,
      "outputs": []
    },
    {
      "cell_type": "markdown",
      "source": [
        " Plot the Results Using Seaborn/Matplotlib"
      ],
      "metadata": {
        "id": "7zqUAjmxt9X-"
      }
    },
    {
      "cell_type": "code",
      "source": [
        "import matplotlib.pyplot as plt\n",
        "import seaborn as sns\n",
        "\n",
        "# Trips per hour\n",
        "plt.figure(figsize=(10, 5))\n",
        "sns.barplot(data=pdf_hourly, x=\"pickup_hour\", y=\"count\", palette=\"viridis\")\n",
        "plt.title(\"Number of Trips by Hour\")\n",
        "plt.xlabel(\"Hour of Day\")\n",
        "plt.ylabel(\"Trip Count\")\n",
        "plt.grid(True)\n",
        "plt.show()\n",
        "\n",
        "# Daily total fare\n",
        "plt.figure(figsize=(12, 5))\n",
        "sns.lineplot(data=pdf_daily_fare, x=\"pickup_date\", y=\"sum(fare_amount)\", marker=\"o\")\n",
        "plt.title(\"Total Fare per Day\")\n",
        "plt.xlabel(\"Date\")\n",
        "plt.ylabel(\"Fare Amount ($)\")\n",
        "plt.grid(True)\n",
        "plt.xticks(rotation=45)\n",
        "plt.tight_layout()\n",
        "plt.show()\n",
        "\n",
        "# Payment type distribution\n",
        "plt.figure(figsize=(8, 5))\n",
        "sns.barplot(data=pdf_payment, x=\"payment_type\", y=\"count\", palette=\"pastel\")\n",
        "plt.title(\"Trip Counts by Payment Type\")\n",
        "plt.xlabel(\"Payment Type\")\n",
        "plt.ylabel(\"Count\")\n",
        "plt.grid(True)\n",
        "plt.show()\n",
        "\n",
        "# Trip distance vs fare\n",
        "plt.figure(figsize=(10, 6))\n",
        "sns.scatterplot(data=pdf_scatter, x=\"trip_distance\", y=\"fare_amount\", alpha=0.3)\n",
        "plt.title(\"Trip Distance vs Fare\")\n",
        "plt.xlabel(\"Distance (miles)\")\n",
        "plt.ylabel(\"Fare ($)\")\n",
        "plt.grid(True)\n",
        "plt.show()\n"
      ],
      "metadata": {
        "id": "xEZopdDMtZV4"
      },
      "execution_count": null,
      "outputs": []
    },
    {
      "cell_type": "code",
      "source": [
        "spark.stop()\n"
      ],
      "metadata": {
        "id": "6WWhd_JFtOof"
      },
      "execution_count": null,
      "outputs": []
    },
    {
      "cell_type": "code",
      "source": [],
      "metadata": {
        "id": "VQU-29aNtPFX"
      },
      "execution_count": null,
      "outputs": []
    }
  ]
}