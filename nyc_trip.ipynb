{
  "nbformat": 4,
  "nbformat_minor": 0,
  "metadata": {
    "colab": {
      "private_outputs": true,
      "provenance": [],
      "mount_file_id": "1MimTNiolW3ZBRUcBB3Nl-Ypb7Jsf9jWe",
      "authorship_tag": "ABX9TyPRxZLcx5MOrEx7ddwXjDFB",
      "include_colab_link": true
    },
    "kernelspec": {
      "name": "python3",
      "display_name": "Python 3"
    },
    "language_info": {
      "name": "python"
    }
  },
  "cells": [
    {
      "cell_type": "markdown",
      "metadata": {
        "id": "view-in-github",
        "colab_type": "text"
      },
      "source": [
        "<a href=\"https://colab.research.google.com/github/lochanpatra/bigdata/blob/main/nyc_trip.ipynb\" target=\"_parent\"><img src=\"https://colab.research.google.com/assets/colab-badge.svg\" alt=\"Open In Colab\"/></a>"
      ]
    },
    {
      "cell_type": "code",
      "execution_count": null,
      "metadata": {
        "id": "EAYTHmr-wrv7"
      },
      "outputs": [],
      "source": [
        "from pyspark.sql import SparkSession\n",
        "\n",
        "spark = SparkSession.builder \\\n",
        "    .appName(\"NYC Taxi Data Analysis\") \\\n",
        "    .config(\"spark.driver.memory\", \"8g\") \\\n",
        "    .config(\"spark.executor.memory\", \"16g\") \\\n",
        "    .getOrCreate()"
      ]
    },
    {
      "cell_type": "code",
      "source": [
        "%%writefile app.py\n",
        "import streamlit as st\n",
        "from pyspark.sql import SparkSession\n",
        "from pyspark.sql.functions import (\n",
        "    to_timestamp, to_date, hour, col, unix_timestamp\n",
        ")\n",
        "from datetime import datetime\n",
        "import pandas as pd\n",
        "import matplotlib.pyplot as plt\n",
        "import seaborn as sns\n",
        "\n",
        "# Streamlit page config\n",
        "st.set_page_config(layout=\"wide\")\n",
        "st.title(\"🚖 NYC Yellow Taxi Trip Analysis Dashboard\")\n",
        "\n",
        "# Start Spark\n",
        "spark = SparkSession.builder.appName(\"NYC_Taxi_Analysis\").getOrCreate()\n",
        "\n",
        "# Load and prepare data (no caching due to Spark limitations)\n",
        "def load_data(path):\n",
        "    df = spark.read.parquet(path)\n",
        "    df = df.withColumn(\"pickup_datetime\", to_timestamp(\"tpep_pickup_datetime\")) \\\n",
        "           .withColumn(\"dropoff_datetime\", to_timestamp(\"tpep_dropoff_datetime\")) \\\n",
        "           .withColumn(\"pickup_date\", to_date(\"tpep_pickup_datetime\")) \\\n",
        "           .withColumn(\"pickup_hour\", hour(\"tpep_pickup_datetime\")) \\\n",
        "           .withColumn(\"trip_duration_minutes\",\n",
        "                       (unix_timestamp(\"dropoff_datetime\") - unix_timestamp(\"pickup_datetime\")) / 60)\n",
        "    return df\n",
        "\n",
        "# Load Data\n",
        "file_path = \"/content/drive/MyDrive/DATA FOR USES/yellow_tripdata_2024-01.parquet\"\n",
        "with st.spinner(\"Loading data...\"):\n",
        "    df = load_data(file_path)\n",
        "\n",
        "# Sidebar Filters\n",
        "st.sidebar.header(\"🛠️ Filters\")\n",
        "start_date = st.sidebar.date_input(\"Start Date\", datetime(2024, 1, 1))\n",
        "end_date = st.sidebar.date_input(\"End Date\", datetime(2024, 1, 31))\n",
        "\n",
        "if start_date > end_date:\n",
        "    st.error(\"Start date must be before end date.\")\n",
        "    st.stop()\n",
        "\n",
        "df = df.filter((df.pickup_date >= start_date) & (df.pickup_date <= end_date))\n",
        "\n",
        "# Payment Type Filter\n",
        "payment_types = df.select(\"payment_type\").distinct().toPandas()\n",
        "payment_type_options = payment_types[\"payment_type\"].unique()\n",
        "payment_type_selected = st.sidebar.selectbox(\"Select Payment Type\", payment_type_options)\n",
        "df = df.filter(df.payment_type == payment_type_selected)\n",
        "\n",
        "# Data cleaning\n",
        "df_clean = df.filter(\n",
        "    (col(\"passenger_count\") > 0) &\n",
        "    (col(\"trip_distance\") > 0) &\n",
        "    (col(\"trip_distance\") < 100) &\n",
        "    (col(\"fare_amount\") > 0)\n",
        ")\n",
        "\n",
        "# Aggregations and sample for plotting\n",
        "pdf_hourly = df_clean.groupBy(\"pickup_hour\").count().orderBy(\"pickup_hour\").toPandas()\n",
        "pdf_daily_fare = df_clean.groupBy(\"pickup_date\").sum(\"fare_amount\").orderBy(\"pickup_date\").toPandas()\n",
        "pdf_payment = df_clean.groupBy(\"payment_type\").count().orderBy(\"count\", ascending=False).toPandas()\n",
        "pdf_scatter = df_clean.select(\"trip_distance\", \"fare_amount\") \\\n",
        "    .filter((col(\"trip_distance\") < 50) & (col(\"fare_amount\") < 200)) \\\n",
        "    .sample(fraction=0.01, seed=42).toPandas()\n",
        "\n",
        "# Plot: Trips per Hour\n",
        "st.subheader(\"📊 Trips per Hour\")\n",
        "fig1, ax1 = plt.subplots(figsize=(10, 5))\n",
        "sns.barplot(data=pdf_hourly, x=\"pickup_hour\", y=\"count\", palette=\"viridis\", ax=ax1)\n",
        "ax1.set_title(\"Number of Trips by Hour\")\n",
        "ax1.set_xlabel(\"Hour of Day\")\n",
        "ax1.set_ylabel(\"Trip Count\")\n",
        "ax1.grid(True)\n",
        "st.pyplot(fig1)\n",
        "\n",
        "# Plot: Daily Fare\n",
        "st.subheader(\"📈 Daily Total Fare\")\n",
        "fig2, ax2 = plt.subplots(figsize=(12, 5))\n",
        "sns.lineplot(data=pdf_daily_fare, x=\"pickup_date\", y=\"sum(fare_amount)\", marker=\"o\", ax=ax2)\n",
        "ax2.set_title(\"Total Fare per Day\")\n",
        "ax2.set_xlabel(\"Date\")\n",
        "ax2.set_ylabel(\"Fare Amount ($)\")\n",
        "ax2.grid(True)\n",
        "fig2.autofmt_xdate()\n",
        "st.pyplot(fig2)\n",
        "\n",
        "# Plot: Payment Type Distribution\n",
        "st.subheader(\"💳 Payment Type Distribution\")\n",
        "fig3, ax3 = plt.subplots(figsize=(8, 5))\n",
        "sns.barplot(data=pdf_payment, x=\"payment_type\", y=\"count\", palette=\"pastel\", ax=ax3)\n",
        "ax3.set_title(\"Trip Counts by Payment Type\")\n",
        "ax3.set_xlabel(\"Payment Type\")\n",
        "ax3.set_ylabel(\"Count\")\n",
        "st.pyplot(fig3)\n",
        "\n",
        "# Plot: Distance vs Fare\n",
        "st.subheader(\"📉 Trip Distance vs Fare Amount\")\n",
        "fig4, ax4 = plt.subplots(figsize=(10, 6))\n",
        "sns.scatterplot(data=pdf_scatter, x=\"trip_distance\", y=\"fare_amount\", alpha=0.3, ax=ax4)\n",
        "ax4.set_title(\"Trip Distance vs Fare\")\n",
        "ax4.set_xlabel(\"Distance (miles)\")\n",
        "ax4.set_ylabel(\"Fare ($)\")\n",
        "ax4.grid(True)\n",
        "st.pyplot(fig4)\n"
      ],
      "metadata": {
        "id": "vdULgBDgaT5l"
      },
      "execution_count": null,
      "outputs": []
    },
    {
      "cell_type": "code",
      "source": [
        "!pip install streamlit pyngrok pyspark"
      ],
      "metadata": {
        "id": "kWJDbbrSDUiV"
      },
      "execution_count": null,
      "outputs": []
    },
    {
      "cell_type": "code",
      "source": [
        "!ngrok config add-authtoken 2wf1M8DB9CWeZUIBKwhcSAmu4m3_4K4TEKVvFuv9wVYrpc2R4"
      ],
      "metadata": {
        "id": "kHEOIAPjCPpN"
      },
      "execution_count": null,
      "outputs": []
    },
    {
      "cell_type": "code",
      "source": [
        "from pyngrok import ngrok\n",
        "\n",
        "# Kill any existing tunnels\n",
        "ngrok.kill()\n",
        "\n",
        "# Start streamlit\n",
        "get_ipython().system_raw('streamlit run app.py &')\n",
        "\n",
        "# Create a public URL\n",
        "url = ngrok.connect(8501)\n",
        "print(\"Streamlit app is live at:\", url)\n"
      ],
      "metadata": {
        "id": "KawR7s4cH42T"
      },
      "execution_count": null,
      "outputs": []
    }
  ]
}